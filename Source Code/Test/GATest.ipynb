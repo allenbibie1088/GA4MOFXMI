{
 "cells": [
  {
   "cell_type": "code",
   "execution_count": 34,
   "metadata": {},
   "outputs": [],
   "source": [
    "#Author: Habibi Husain Arifin\n",
    "#Created Date: 10 January 2019\n",
    "#Last Updated Date: 15 January 2019\n",
    "#Version: 1.0\n",
    "#<a rel=\"license\" href=\"http://creativecommons.org/licenses/by-sa/4.0/\"><img alt=\"Creative Commons License\" style=\"border-width:0\" src=\"https://i.creativecommons.org/l/by-sa/4.0/88x31.png\" /></a><br />This work is licensed under a <a rel=\"license\" href=\"http://creativecommons.org/licenses/by-sa/4.0/\">Creative Commons Attribution-ShareAlike 4.0 International License</a>.\n",
    "\n",
    "import random\n",
    "import string\n",
    "from strgen import StringGenerator\n",
    "from deap import base, creator, tools, algorithms\n",
    "\n",
    "IND_SIZE = 5\n",
    "\n",
    "toolbox = base.Toolbox()\n",
    "\n",
    "def generateGeneRandomly(k=1):\n",
    "    gene = None\n",
    "    lowerBound = string.ascii_uppercase[0]\n",
    "    upperBound = string.ascii_uppercase[-1]\n",
    "    template = \"[\" + lowerBound + \"-\" + upperBound + \"]{\" + str(k) + \"}\"\n",
    "    gene = StringGenerator(template).render()\n",
    "    return gene\n",
    "\n",
    "def evalOneMax(individual):\n",
    "    ascDict = {\"A\":1, \"B\":2, \"C\":3, \"D\":4, \"E\":5, \"F\":6, \"G\":7, \"H\":8, \"I\":9, \"J\":10, \n",
    "              \"K\":11, \"L\":12, \"M\":13, \"N\":14, \"O\":15, \"P\":16, \"Q\":17, \"R\":18, \"S\":19, \"T\":20,\n",
    "              \"U\":21, \"V\":22, \"W\":23, \"X\":24, \"Y\":25, \"Z\":26}\n",
    "    \n",
    "    # Do some hard computing on the individual\n",
    "    fitness = 0\n",
    "    for child in individual:\n",
    "        for i in child:\n",
    "            #print(ascDict[i])\n",
    "            fitness += ascDict[i]\n",
    "    return fitness,"
   ]
  },
  {
   "cell_type": "code",
   "execution_count": 35,
   "metadata": {},
   "outputs": [
    {
     "name": "stderr",
     "output_type": "stream",
     "text": [
      "C:\\Users\\Habibi\\Anaconda3\\lib\\site-packages\\deap\\creator.py:141: RuntimeWarning: A class named 'FitnessMax' has already been created and it will be overwritten. Consider deleting previous creation of that class or rename it.\n",
      "  RuntimeWarning)\n",
      "C:\\Users\\Habibi\\Anaconda3\\lib\\site-packages\\deap\\creator.py:141: RuntimeWarning: A class named 'Individual' has already been created and it will be overwritten. Consider deleting previous creation of that class or rename it.\n",
      "  RuntimeWarning)\n"
     ]
    }
   ],
   "source": [
    "creator.create(\"FitnessMax\", base.Fitness, weights=(1.0,))\n",
    "creator.create(\"Individual\", list, fitness=creator.FitnessMax)\n",
    "\n",
    "toolbox.register(\"attr_alphabet\", generateGeneRandomly, k=2)\n",
    "toolbox.register(\"individual\", tools.initRepeat, creator.Individual, toolbox.attr_alphabet, n=IND_SIZE)\n",
    "toolbox.register(\"population\", tools.initRepeat, list, toolbox.individual)\n",
    "toolbox.register(\"evaluate\", evalOneMax)\n",
    "\n",
    "#Executes a one point crossover on the input sequence individuals.\n",
    "#The two individuals are modified in place.\n",
    "#The resulting individuals will respectively have the length of the other.\n",
    "toolbox.register(\"mate\", tools.cxOnePoint)\n",
    "\n",
    "#Shuffle the attributes of the input individual and return the mutant.\n",
    "#The individual is expected to be a sequence.\n",
    "#The indpb argument is the probability of each attribute to be moved.\n",
    "#Usually this mutation is applied on vector of indices.\n",
    "toolbox.register(\"mutate\", tools.mutShuffleIndexes, indpb=0.2)\n",
    "\n",
    "#Flip the value of the attributes of the input individual and return the mutant.\n",
    "#The individual is expected to be a sequence and the values of the attributes shall stay valid after the not operator is called on them.\n",
    "#The indpb argument is the probability of each attribute to be flipped.\n",
    "#This mutation is usually applied on boolean individuals.\n",
    "#toolbox.register(\"mutate\", tools.mutFlipBit, indpb=0.2)\n",
    "\n",
    "#This function applies a gaussian mutation of mean mu and standard deviation sigma on the input individual.\n",
    "#This mutation expects a sequence individual composed of real valued attributes.\n",
    "#The indpb argument is the probability of each attribute to be mutated.\n",
    "#toolbox.register(\"mutate\", tools.mutGaussian, mu=0, sigma=1, indpb=0.2)\n",
    "\n",
    "toolbox.register(\"select\", tools.selBest)"
   ]
  },
  {
   "cell_type": "code",
   "execution_count": 36,
   "metadata": {},
   "outputs": [
    {
     "name": "stdout",
     "output_type": "stream",
     "text": [
      "gen\tnevals\n",
      "0  \t10    \n",
      "1  \t7     \n",
      "2  \t4     \n",
      "3  \t5     \n",
      "4  \t8     \n",
      "5  \t7     \n",
      "6  \t5     \n",
      "7  \t7     \n",
      "8  \t5     \n",
      "9  \t4     \n",
      "10 \t8     \n",
      "\n",
      "Solution\tFitness\n",
      "['TS', 'OH', 'JX', 'IX', 'WV'] (174.0,)\n"
     ]
    }
   ],
   "source": [
    "if __name__ == \"__main__\":\n",
    "    pop = toolbox.population(n=10)\n",
    "    algorithms.eaSimple(pop, toolbox, cxpb=0.5, mutpb=0.2, ngen=10, verbose=True)\n",
    "    bests = tools.selBest(pop, k=1)\n",
    "    print(\"\\nSolution\\tFitness\")\n",
    "    for best in bests:\n",
    "        print(best, best.fitness)"
   ]
  },
  {
   "cell_type": "code",
   "execution_count": null,
   "metadata": {},
   "outputs": [],
   "source": []
  }
 ],
 "metadata": {
  "kernelspec": {
   "display_name": "Python 3",
   "language": "python",
   "name": "python3"
  },
  "language_info": {
   "codemirror_mode": {
    "name": "ipython",
    "version": 3
   },
   "file_extension": ".py",
   "mimetype": "text/x-python",
   "name": "python",
   "nbconvert_exporter": "python",
   "pygments_lexer": "ipython3",
   "version": "3.7.3"
  }
 },
 "nbformat": 4,
 "nbformat_minor": 2
}
