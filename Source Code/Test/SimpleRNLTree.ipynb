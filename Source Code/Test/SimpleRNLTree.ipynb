{
 "cells": [
  {
   "cell_type": "markdown",
   "metadata": {},
   "source": [
    "# Build SimpleTree"
   ]
  },
  {
   "cell_type": "code",
   "execution_count": null,
   "metadata": {},
   "outputs": [],
   "source": [
    "#Author: Habibi Husain Arifin\n",
    "#Created Date: 26 December 2018\n",
    "#Last Updated Date: 26 December 2018\n",
    "#Version: 1.0\n",
    "#<a rel=\"license\" href=\"http://creativecommons.org/licenses/by-sa/4.0/\"><img alt=\"Creative Commons License\" style=\"border-width:0\" src=\"https://i.creativecommons.org/l/by-sa/4.0/88x31.png\" /></a><br />This work is licensed under a <a rel=\"license\" href=\"http://creativecommons.org/licenses/by-sa/4.0/\">Creative Commons Attribution-ShareAlike 4.0 International License</a>.\n",
    "\n",
    "import matplotlib.pyplot as plt\n",
    "import networkx as nx\n",
    "import pydot\n",
    "\n",
    "def drawGraph(structureModel):\n",
    "    g = nx.Graph()\n",
    "\n",
    "    for obj in structureModel:\n",
    "        g.add_node(obj.nodeId, level=obj.level)\n",
    "        if obj.parentNodeId != None:\n",
    "            g.add_edge(obj.nodeId, obj.parentNodeId, rel=obj.relationship)\n",
    "\n",
    "    pos = nx.nx_pydot.graphviz_layout(g, prog=\"dot\")\n",
    "\n",
    "    plt.figure(figsize=(20,10))\n",
    "    nx.draw_networkx_nodes(g, pos, node_size=100, node_color=\"w\")\n",
    "    nx.draw_networkx_labels(g, pos)\n",
    "    nx.draw_networkx_edges(g, pos)\n",
    "    nx.draw_networkx_edge_labels(g, pos, font_color=\"r\")\n",
    "    plt.axis(\"off\")\n",
    "    plt.show()\n",
    "\n",
    "########################################################################################################################\n",
    "#Below this line is test area\n",
    "\"\"\"\n",
    "#Test Read StructureModel\n",
    "\"\"\"\n",
    "print(\"READ STRUCTURE MODEL\")\n",
    "#Input\n",
    "SOI_NAME = \"Electric Bicycle\"\n",
    "FILE_PATH = \"Input/XMI/e-bicycle-190-v1.2-customstereotypes-hbb.xml\"\n",
    "\n",
    "tree = ET.parse(FILE_PATH)\n",
    "root = tree.getroot()\n",
    "structModel = XMI25Element.createNewStructureModel(SOI_NAME, root)\n",
    "newStructModel = []\n",
    "for obj in structModel:\n",
    "    st = obj.stereotypes\n",
    "    lv = obj.level\n",
    "    if st != None:\n",
    "        if lv == 0:\n",
    "            if SOI in st:newStructModel.append(obj)\n",
    "        if lv == 1:\n",
    "            if GA_GENE in st:newStructModel.append(obj)\n",
    "            if VALUE_PROPERTY in st or MOE in st or FITNESS_VALUE in st:newStructModel.append(obj)\n",
    "        if lv == 2:\n",
    "            if GA_GENE in st:newStructModel.append(obj)\n",
    "        if lv > 1 and lv <= 4:\n",
    "            if CONSTRAINT_BLOCK in st:\n",
    "                if obj.name == \"Fitness Constraint\":newStructModel.append(obj)\n",
    "            if CONSTRAINT_PARAMETER in st:\n",
    "                if \"fitness\" in obj.name:newStructModel.append(obj)\n",
    "\n",
    "for obj in newStructModel:\n",
    "    print(Colors.getFontColorByLevel(obj.level), Colors.BOLD, XPathHelper.getRepeatedChar(\"\", obj.level), obj.stereotypes, \"LV.\", obj.level, Colors.ENDC, \", gene =\", obj.gaGene, \", nId =\", obj.nodeId, \", pId =\", obj.parentNodeId, \", xmiId =\", obj.xmiId, \", name =\", obj.name, \", value =\", obj.value, \", formula =\", obj.formula )\n",
    "\n",
    "drawGraph(newStructModel)"
   ]
  }
 ],
 "metadata": {
  "kernelspec": {
   "display_name": "Python 3",
   "language": "python",
   "name": "python3"
  },
  "language_info": {
   "codemirror_mode": {
    "name": "ipython",
    "version": 3
   },
   "file_extension": ".py",
   "mimetype": "text/x-python",
   "name": "python",
   "nbconvert_exporter": "python",
   "pygments_lexer": "ipython3",
   "version": "3.7.3"
  }
 },
 "nbformat": 4,
 "nbformat_minor": 2
}
